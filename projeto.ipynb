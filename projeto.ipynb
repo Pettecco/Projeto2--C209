{
 "cells": [
  {
   "cell_type": "markdown",
   "metadata": {},
   "source": [
    "Importando as bibliotecas e abrindo o vídeo"
   ]
  },
  {
   "cell_type": "code",
   "execution_count": null,
   "metadata": {},
   "outputs": [],
   "source": [
    "import moviepy.editor as mpe\n",
    "import numpy as np\n",
    "import vfx\n",
    "video = mpe.VideoFileClip('video.mp4')"
   ]
  },
  {
   "cell_type": "markdown",
   "metadata": {},
   "source": [
    "Função para inverter o eixo vertical a cada 20 segundos"
   ]
  },
  {
   "cell_type": "code",
   "execution_count": null,
   "metadata": {},
   "outputs": [],
   "source": [
    "\n",
    "duracao = video.duration\n",
    "\n",
    "segmentos = []\n",
    "inicio = 0\n",
    "\n",
    "while inicio < duracao:\n",
    "    fim = min(inicio + 20, duracao)\n",
    "    segmento = video.subclip(inicio, fim)\n",
    "    \n",
    "    if (inicio // 20) % 2 == 1:\n",
    "        segmento = segmento.fx(vfx.mirror_y)\n",
    "    \n",
    "    segmentos.append(segmento)\n",
    "    inicio = fim\n",
    "\n",
    "video_final = mpe.concatenate_videoclips(segmentos)\n",
    "\n",
    "video_final.write_videofile(\"video_invertido.mp4\", codec=\"libx264\", audio_codec=\"aac\")"
   ]
  },
  {
   "cell_type": "markdown",
   "metadata": {},
   "source": [
    "Ajustando o audio para ir diminuindo a cada 30 segundos e ficar sem audio nos últimos 10 segundos"
   ]
  },
  {
   "cell_type": "code",
   "execution_count": null,
   "metadata": {},
   "outputs": [],
   "source": [
    "def volume_function(t, audio_shape):\n",
    "\n",
    "    mask = t >= duracao_total - 10\n",
    "    intervals = t // 30\n",
    "    factors = 1 - 0.1 * intervals\n",
    "    factors[mask] = 0.0\n",
    "    return np.tile(np.maximum(factors, 0.0), (audio_shape[1], 1)).T\n",
    "\n",
    "def aplicar_volume(get_audio_frame, t):\n",
    "    \n",
    "    audio_frame = get_audio_frame(t)\n",
    "    fator = volume_function(t, audio_frame.shape)\n",
    "    if audio_frame.dtype != fator.dtype:\n",
    "        fator = fator.astype(audio_frame.dtype)\n",
    "    return audio_frame * fator\n",
    "\n",
    "video_invertido_com_audio = mpe.VideoFileClip(\"video_invertido.mp4\")\n",
    "duracao_total = video_invertido_com_audio.duration\n",
    "\n",
    "audio_reduzido = video_invertido_com_audio.audio.fl(aplicar_volume)\n",
    "\n",
    "video_final = video_invertido_com_audio.set_audio(audio_reduzido)\n",
    "\n",
    "# Salvar o vídeo final\n",
    "video_final.write_videofile(\"video_final.mp4\", codec=\"libx264\")"
   ]
  },
  {
   "cell_type": "markdown",
   "metadata": {},
   "source": [
    "Por fim, pegando o tempo de 60 a 80 segundos e passando para o final do video\n"
   ]
  },
  {
   "cell_type": "code",
   "execution_count": null,
   "metadata": {},
   "outputs": [],
   "source": [
    "video1 = video_final.subclip(0,60)\n",
    "video2 = video_final.subclip(60,80)\n",
    "video3 = video_final.subclip(80)\n",
    "videoCortado = mpe.concatenate_videoclips([video1,video2,video3])\n",
    "\n",
    "videoCortado.write_videofile('video_cortado.mp4')"
   ]
  }
 ],
 "metadata": {
  "kernelspec": {
   "display_name": "Python 3",
   "language": "python",
   "name": "python3"
  },
  "language_info": {
   "codemirror_mode": {
    "name": "ipython",
    "version": 3
   },
   "file_extension": ".py",
   "mimetype": "text/x-python",
   "name": "python",
   "nbconvert_exporter": "python",
   "pygments_lexer": "ipython3",
   "version": "3.13.0"
  }
 },
 "nbformat": 4,
 "nbformat_minor": 2
}
